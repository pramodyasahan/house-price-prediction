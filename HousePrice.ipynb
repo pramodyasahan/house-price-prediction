{
 "cells": [
  {
   "cell_type": "code",
   "execution_count": null,
   "id": "80307ad9-ef68-475c-bbfb-f164ac430b66",
   "metadata": {},
   "outputs": [],
   "source": [
    "import pandas as pd\n",
    "import numpy as np\n",
    "from sklearn.impute import SimpleImputer\n",
    "from sklearn.compose import ColumnTransformer\n",
    "from sklearn.pipeline import Pipeline\n",
    "from sklearn.feature_selection import RFE\n",
    "from sklearn.ensemble import RandomForestRegressor\n",
    "from sklearn.preprocessing import OneHotEncoder, StandardScaler"
   ]
  },
  {
   "cell_type": "code",
   "execution_count": null,
   "id": "6b3a2c7e-8a6a-4693-afaa-f5057cd54e60",
   "metadata": {},
   "outputs": [],
   "source": [
    "training_dataset = pd.read_csv('train.csv')\n",
    "testing_dataset = pd.read_csv('test.csv')\n",
    "\n",
    "X_train = training_dataset.drop('SalePrice', axis=1)\n",
    "X_train = X_train.drop('Id', axis=1)\n",
    "y_train = training_dataset['SalePrice']\n",
    "\n",
    "X_test = testing_dataset.drop('Id', axis=1)"
   ]
  },
  {
   "cell_type": "code",
   "execution_count": null,
   "id": "b9ad929a-08c4-4ac1-9d8e-7c7dd82a74ad",
   "metadata": {},
   "outputs": [],
   "source": [
    "numerical_cols = X_train.select_dtypes(include=['int64', 'float64']).columns\n",
    "categorical_cols = X_train.select_dtypes(include=['object', 'category']).columns"
   ]
  },
  {
   "cell_type": "code",
   "execution_count": null,
   "id": "f53a903e-71dd-4800-b816-30aae81510e6",
   "metadata": {},
   "outputs": [],
   "source": [
    "numerical_transformer = Pipeline(steps=[\n",
    "    ('imputer', SimpleImputer(strategy='mean')),\n",
    "    ('scaler', StandardScaler())\n",
    "])\n",
    "\n",
    "categorical_transformer = Pipeline(steps=[\n",
    "    ('imputer', SimpleImputer(strategy='most_frequent')),\n",
    "    ('onehot', OneHotEncoder(handle_unknown='ignore'))\n",
    "])\n",
    "\n",
    "preprocessor = ColumnTransformer(\n",
    "    transformers=[\n",
    "        ('num', numerical_transformer, numerical_cols),\n",
    "        ('cat', categorical_transformer, categorical_cols)\n",
    "    ])\n",
    "\n",
    "X_train_transformed = preprocessor.fit_transform(X_train)\n",
    "X_test_transformed = preprocessor.transform(X_test)"
   ]
  },
  {
   "cell_type": "code",
   "execution_count": null,
   "id": "63c17839-2655-4cc9-971d-88b16bdc5048",
   "metadata": {},
   "outputs": [],
   "source": [
    "model = RandomForestRegressor()\n",
    "\n",
    "rfe = RFE(estimator=model, n_features_to_select=50)  \n",
    "rfe = rfe.fit(X_train_transformed, y_train)"
   ]
  },
  {
   "cell_type": "code",
   "execution_count": null,
   "id": "15027af2-1148-48c7-a4d5-36ac31027147",
   "metadata": {},
   "outputs": [],
   "source": [
    "selected_mask = rfe.support_\n",
    "\n",
    "# Get the feature names\n",
    "all_feature_names = np.array(numerical_cols.tolist() + preprocessor.named_transformers_['cat']['onehot'].get_feature_names_out(categorical_cols))\n",
    "selected_features = all_feature_names[selected_mask]\n",
    "\n",
    "# Separate selected numerical and categorical features\n",
    "selected_numerical = [feature for feature in selected_features if feature in numerical_cols]\n",
    "selected_categorical = [feature for feature in selected_features if feature not in numerical_cols]\n",
    "\n",
    "# Create transformers for selected numerical and categorical features\n",
    "numerical_transformer_selected = Pipeline(steps=[\n",
    "    ('imputer', SimpleImputer(strategy='mean')),\n",
    "    ('scaler', StandardScaler())\n",
    "])\n",
    "\n",
    "categorical_transformer_selected = Pipeline(steps=[\n",
    "    ('imputer', SimpleImputer(strategy='most_frequent')),  # Use 'most_frequent' for categorical\n",
    "    ('onehot', OneHotEncoder(handle_unknown='ignore'))\n",
    "])\n",
    "\n",
    "# Create a list of columns that need one-hot encoding (categorical columns)\n",
    "categorical_cols_selected = selected_categorical\n",
    "\n",
    "# Create a ColumnTransformer for selected features\n",
    "preprocessor_selected = ColumnTransformer(\n",
    "    transformers=[\n",
    "        ('num', numerical_transformer_selected, selected_numerical),\n",
    "        ('cat', categorical_transformer_selected, categorical_cols_selected)\n",
    "    ])\n",
    "\n",
    "# Fit and transform the training data with selected features\n",
    "X_train_selected = preprocessor_selected.fit_transform(X_train)\n",
    "X_test_selected = preprocessor_selected.transform(X_test)"
   ]
  },
  {
   "cell_type": "code",
   "execution_count": null,
   "id": "37c3ad9f-6c5c-4a77-852a-d2af577f313e",
   "metadata": {},
   "outputs": [],
   "source": [
    "# Preprocess the training and testing data with selected features\n",
    "X_train_selected = preprocessor_selected.fit_transform(X_train)\n",
    "X_test_selected = preprocessor_selected.transform(X_test)"
   ]
  },
  {
   "cell_type": "code",
   "execution_count": null,
   "id": "dfe8eae7-5dc5-4aa1-bf48-5d9ac3b754a8",
   "metadata": {},
   "outputs": [],
   "source": []
  }
 ],
 "metadata": {
  "kernelspec": {
   "display_name": "Python 3 (ipykernel)",
   "language": "python",
   "name": "python3"
  },
  "language_info": {
   "codemirror_mode": {
    "name": "ipython",
    "version": 3
   },
   "file_extension": ".py",
   "mimetype": "text/x-python",
   "name": "python",
   "nbconvert_exporter": "python",
   "pygments_lexer": "ipython3",
   "version": "3.10.13"
  }
 },
 "nbformat": 4,
 "nbformat_minor": 5
}
